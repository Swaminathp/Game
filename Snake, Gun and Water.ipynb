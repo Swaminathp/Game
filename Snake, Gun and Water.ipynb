{
 "cells": [
  {
   "cell_type": "code",
   "execution_count": 2,
   "id": "f4164ad3",
   "metadata": {},
   "outputs": [
    {
     "name": "stdout",
     "output_type": "stream",
     "text": [
      "Enter your object:\n",
      "w\n",
      "Computer chose s ,you chose w . You lost!\n"
     ]
    }
   ],
   "source": [
    "#game project, done in jupyter notebook:\n",
    "import random\n",
    "listy = ['w','s','g'] \n",
    "\n",
    "you = input(\"Enter your object:\\n\") \n",
    "    \n",
    "def game(comp, you):\n",
    "     \n",
    "    if you not in listy:\n",
    "        print('Enter a valid object')\n",
    "    else:\n",
    "        if comp==you:\n",
    "            print('Computer chose', comp, ',you chose', you, ',The game is tie!')\n",
    "        elif comp == 'w':\n",
    "            if you == 'g':\n",
    "                print('Computer chose', comp, ',you chose', you, '. You lost!')\n",
    "            else:\n",
    "                print('Computer chose', comp, ',you chose', you, '. You won!')\n",
    "        elif comp == 's':\n",
    "            if you == 'w':\n",
    "                print('Computer chose', comp, ',you chose', you, '. You lost!')\n",
    "            else:\n",
    "                print('Computer chose', comp, ',you chose', you, '. You won!')\n",
    "        elif comp == 'g':\n",
    "            if you == 's':\n",
    "                print('Computer chose', comp, ',you chose', you, '. You lost!')\n",
    "            else:\n",
    "                print('Computer chose', comp, ',you chose', you, '. You won!')\n",
    "    \n",
    "randnum = random.randint(1,3)\n",
    "    \n",
    "if randnum == 1:\n",
    "    comp = 's'\n",
    "elif randnum ==2:\n",
    "    comp = 'w'\n",
    "else:\n",
    "    comp = 'g'\n",
    "    \n",
    "game(comp,you)\n"
   ]
  },
  {
   "cell_type": "code",
   "execution_count": null,
   "id": "ec53facc",
   "metadata": {},
   "outputs": [],
   "source": []
  },
  {
   "cell_type": "code",
   "execution_count": 11,
   "id": "0d3f65e7",
   "metadata": {},
   "outputs": [
    {
     "ename": "NameError",
     "evalue": "name 'you' is not defined",
     "output_type": "error",
     "traceback": [
      "\u001b[1;31m---------------------------------------------------------------------------\u001b[0m",
      "\u001b[1;31mNameError\u001b[0m                                 Traceback (most recent call last)",
      "Cell \u001b[1;32mIn[11], line 1\u001b[0m\n\u001b[1;32m----> 1\u001b[0m game(comp,\u001b[43myou\u001b[49m)\n",
      "\u001b[1;31mNameError\u001b[0m: name 'you' is not defined"
     ]
    }
   ],
   "source": []
  },
  {
   "cell_type": "code",
   "execution_count": null,
   "id": "436d9bcf",
   "metadata": {},
   "outputs": [],
   "source": []
  }
 ],
 "metadata": {
  "kernelspec": {
   "display_name": "Python 3 (ipykernel)",
   "language": "python",
   "name": "python3"
  },
  "language_info": {
   "codemirror_mode": {
    "name": "ipython",
    "version": 3
   },
   "file_extension": ".py",
   "mimetype": "text/x-python",
   "name": "python",
   "nbconvert_exporter": "python",
   "pygments_lexer": "ipython3",
   "version": "3.10.9"
  }
 },
 "nbformat": 4,
 "nbformat_minor": 5
}
